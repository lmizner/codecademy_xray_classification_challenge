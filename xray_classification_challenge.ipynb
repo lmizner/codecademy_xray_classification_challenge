{
 "cells": [
  {
   "cell_type": "code",
   "execution_count": 1,
   "metadata": {},
   "outputs": [],
   "source": [
    "import tensorflow as tf\n",
    "from tensorflow import keras\n",
    "from tensorflow.keras.models import Sequential\n",
    "from tensorflow.keras.preprocessing.image import ImageDataGenerator\n",
    "\n",
    "from sklearn.metrics import classification_report\n",
    "from sklearn.metrics import confusion_matrix\n",
    "\n",
    "from tensorflow.keras.callbacks import EarlyStopping\n",
    "from tensorflow.keras import layers\n",
    "\n",
    "import matplotlib.pyplot as plt\n",
    "import numpy as np\n",
    "import math"
   ]
  },
  {
   "cell_type": "code",
   "execution_count": 2,
   "metadata": {},
   "outputs": [],
   "source": [
    "#Construct an ImageDataGenerator object:\n",
    "DIRECTORY = \"Covid19-dataset/train\"\n",
    "CLASS_MODE = \"categorical\"\n",
    "COLOR_MODE = \"grayscale\"\n",
    "TARGET_SIZE = (256,256)\n",
    "BATCH_SIZE = 32\n",
    "\n",
    "training_data_generator = ImageDataGenerator(\n",
    "    rescale = 1.0/255,\n",
    "    zoom_range=0.1, \n",
    "    rotation_range = 25, \n",
    "    width_shift_range = 0.05,\n",
    "    height_shift_range = 0.05)\n",
    "\n",
    "validation_data_generator = ImageDataGenerator()"
   ]
  },
  {
   "cell_type": "code",
   "execution_count": 3,
   "metadata": {},
   "outputs": [
    {
     "name": "stdout",
     "output_type": "stream",
     "text": [
      "Found 251 images belonging to 3 classes.\n",
      "\n",
      "Loading validation data...\n",
      "Found 251 images belonging to 3 classes.\n",
      "{'featurewise_center': False, 'samplewise_center': False, 'featurewise_std_normalization': False, 'samplewise_std_normalization': False, 'zca_whitening': False, 'zca_epsilon': 1e-06, 'rotation_range': 25, 'width_shift_range': 0.05, 'height_shift_range': 0.05, 'shear_range': 0.0, 'zoom_range': [0.9, 1.1], 'channel_shift_range': 0.0, 'fill_mode': 'nearest', 'cval': 0.0, 'horizontal_flip': False, 'vertical_flip': False, 'rescale': 0.00392156862745098, 'preprocessing_function': None, 'dtype': 'float32', 'interpolation_order': 1, 'data_format': 'channels_last', 'channel_axis': 3, 'row_axis': 1, 'col_axis': 2, '_validation_split': 0.0, 'mean': None, 'std': None, 'zca_whitening_matrix': None, 'brightness_range': None}\n"
     ]
    }
   ],
   "source": [
    "training_iterator = training_data_generator.flow_from_directory(\n",
    "    DIRECTORY,\n",
    "    class_mode = 'categorical',\n",
    "    color_mode = 'grayscale',\n",
    "    batch_size = BATCH_SIZE)\n",
    "\n",
    "training_iterator.next()\n",
    "\n",
    "print(\"\\nLoading validation data...\")\n",
    "\n",
    "validation_iterator = validation_data_generator.flow_from_directory(\n",
    "    DIRECTORY,\n",
    "    class_mode = 'categorical',\n",
    "    color_mode = 'grayscale',\n",
    "    batch_size = BATCH_SIZE)\n",
    "\n",
    "print(training_data_generator.__dict__)"
   ]
  },
  {
   "cell_type": "code",
   "execution_count": 15,
   "metadata": {},
   "outputs": [
    {
     "name": "stdout",
     "output_type": "stream",
     "text": [
      "\n",
      "Building model...\n"
     ]
    }
   ],
   "source": [
    "print(\"\\nBuilding model...\")\n",
    "\n",
    "def design_model(training_data):\n",
    "    # model = Sequential()\n",
    "    # model.add(tf.keras.Input(shape = (256, 256, 1)))\n",
    "    # model.add(layers.Conv2D(5, 5, strides = 3, activation = \"relu\")) \n",
    "    # model.add(layers.MaxPooling2D(pool_size=(2, 2), strides = (2, 2)))\n",
    "    # model.add(layers.Dropout(0.1))\n",
    "    # model.add(layers.Conv2D(3, 3, strides = 1, activation = \"relu\")) \n",
    "    # model.add(layers.MaxPooling2D(pool_size = (2, 2), strides = (2, 2)))\n",
    "    # model.add(layers.Dropout(0.2))\n",
    "    # model.add(layers.Flatten())\n",
    "    # model.add(layers.Dense(3, activation = \"softmax\"))\n",
    "\n",
    "    model = Sequential()\n",
    "    model.add(tf.keras.Input(shape = (256, 256, 1)))\n",
    "    model.add(layers.Conv2D(32, 3, activation = 'relu'))\n",
    "    model.add(layers.MaxPooling2D(pool_size = (2, 2)))\n",
    "    # model.add(layers.Dropout(0.1))\n",
    "    model.add(layers.Conv2D(64, 3, activation = 'relu'))\n",
    "    model.add(layers.MaxPooling2D(pool_size = (2, 2)))\n",
    "    # model.add(layers.Dropout(0.2))\n",
    "    model.add(layers.Flatten())\n",
    "    model.add(layers.Dense(128, activation = 'relu'))\n",
    "    model.add(layers.Dense(3, activation = 'softmax'))\n",
    "\n",
    "    print(\"\\nCompiling model...\")\n",
    "    \n",
    "    model.compile(\n",
    "        optimizer = tf.keras.optimizers.legacy.Adam(learning_rate = .001),\n",
    "        loss = tf.keras.losses.CategoricalCrossentropy(), \n",
    "        metrics=[tf.keras.metrics.CategoricalAccuracy(),tf.keras.metrics.AUC()])\n",
    "    \n",
    "    model.summary()\n",
    "    return model"
   ]
  },
  {
   "cell_type": "code",
   "execution_count": 16,
   "metadata": {},
   "outputs": [
    {
     "name": "stdout",
     "output_type": "stream",
     "text": [
      "\n",
      "Compiling model...\n",
      "Model: \"sequential_3\"\n",
      "_________________________________________________________________\n",
      " Layer (type)                Output Shape              Param #   \n",
      "=================================================================\n",
      " conv2d_6 (Conv2D)           (None, 254, 254, 32)      320       \n",
      "                                                                 \n",
      " max_pooling2d_6 (MaxPoolin  (None, 127, 127, 32)      0         \n",
      " g2D)                                                            \n",
      "                                                                 \n",
      " conv2d_7 (Conv2D)           (None, 125, 125, 64)      18496     \n",
      "                                                                 \n",
      " max_pooling2d_7 (MaxPoolin  (None, 62, 62, 64)        0         \n",
      " g2D)                                                            \n",
      "                                                                 \n",
      " flatten_3 (Flatten)         (None, 246016)            0         \n",
      "                                                                 \n",
      " dense_6 (Dense)             (None, 128)               31490176  \n",
      "                                                                 \n",
      " dense_7 (Dense)             (None, 3)                 387       \n",
      "                                                                 \n",
      "=================================================================\n",
      "Total params: 31509379 (120.20 MB)\n",
      "Trainable params: 31509379 (120.20 MB)\n",
      "Non-trainable params: 0 (0.00 Byte)\n",
      "_________________________________________________________________\n"
     ]
    }
   ],
   "source": [
    "model = design_model(training_iterator)\n",
    "\n",
    "early_stopping = EarlyStopping(monitor = 'val_auc', mode = 'min', verbose = 1, patience = 20)"
   ]
  },
  {
   "cell_type": "code",
   "execution_count": 17,
   "metadata": {},
   "outputs": [
    {
     "name": "stdout",
     "output_type": "stream",
     "text": [
      "\n",
      "Training model...\n",
      "Epoch 1/5\n",
      "8/7 [==============================] - ETA: 0s - loss: 4.0818 - categorical_accuracy: 0.4024 - auc_3: 0.5943WARNING:tensorflow:Early stopping conditioned on metric `val_auc` which is not available. Available metrics are: loss,categorical_accuracy,auc_3,val_loss,val_categorical_accuracy,val_auc_3\n",
      "7/7 [==============================] - 5s 583ms/step - loss: 4.0818 - categorical_accuracy: 0.4024 - auc_3: 0.5943 - val_loss: 25.6972 - val_categorical_accuracy: 0.7450 - val_auc_3: 0.8071\n",
      "Epoch 2/5\n",
      "8/7 [==============================] - ETA: 0s - loss: 0.8189 - categorical_accuracy: 0.7331 - auc_3: 0.8821WARNING:tensorflow:Early stopping conditioned on metric `val_auc` which is not available. Available metrics are: loss,categorical_accuracy,auc_3,val_loss,val_categorical_accuracy,val_auc_3\n",
      "7/7 [==============================] - 4s 539ms/step - loss: 0.8189 - categorical_accuracy: 0.7331 - auc_3: 0.8821 - val_loss: 10.4685 - val_categorical_accuracy: 0.8725 - val_auc_3: 0.9098\n",
      "Epoch 3/5\n",
      "8/7 [==============================] - ETA: 0s - loss: 0.6271 - categorical_accuracy: 0.7729 - auc_3: 0.9037WARNING:tensorflow:Early stopping conditioned on metric `val_auc` which is not available. Available metrics are: loss,categorical_accuracy,auc_3,val_loss,val_categorical_accuracy,val_auc_3\n",
      "7/7 [==============================] - 4s 540ms/step - loss: 0.6271 - categorical_accuracy: 0.7729 - auc_3: 0.9037 - val_loss: 27.1737 - val_categorical_accuracy: 0.8685 - val_auc_3: 0.9014\n",
      "Epoch 4/5\n",
      "8/7 [==============================] - ETA: 0s - loss: 0.4118 - categorical_accuracy: 0.8327 - auc_3: 0.9573WARNING:tensorflow:Early stopping conditioned on metric `val_auc` which is not available. Available metrics are: loss,categorical_accuracy,auc_3,val_loss,val_categorical_accuracy,val_auc_3\n",
      "7/7 [==============================] - 4s 550ms/step - loss: 0.4118 - categorical_accuracy: 0.8327 - auc_3: 0.9573 - val_loss: 46.1185 - val_categorical_accuracy: 0.8167 - val_auc_3: 0.8674\n",
      "Epoch 5/5\n",
      "8/7 [==============================] - ETA: 0s - loss: 0.3272 - categorical_accuracy: 0.8645 - auc_3: 0.9697WARNING:tensorflow:Early stopping conditioned on metric `val_auc` which is not available. Available metrics are: loss,categorical_accuracy,auc_3,val_loss,val_categorical_accuracy,val_auc_3\n",
      "7/7 [==============================] - 4s 556ms/step - loss: 0.3272 - categorical_accuracy: 0.8645 - auc_3: 0.9697 - val_loss: 35.3922 - val_categorical_accuracy: 0.9004 - val_auc_3: 0.9253\n"
     ]
    }
   ],
   "source": [
    "print(\"\\nTraining model...\")\n",
    "\n",
    "history = model.fit(\n",
    "        training_iterator,\n",
    "        steps_per_epoch = training_iterator.samples/BATCH_SIZE, epochs=5,\n",
    "        validation_data = validation_iterator,\n",
    "        validation_steps = validation_iterator.samples/BATCH_SIZE,\n",
    "        callbacks = [early_stopping])"
   ]
  },
  {
   "cell_type": "code",
   "execution_count": 18,
   "metadata": {},
   "outputs": [
    {
     "data": {
      "image/png": "[encoded data removed]",
      "text/plain": [
       "<Figure size 640x480 with 2 Axes>"
      ]
     },
     "metadata": {},
     "output_type": "display_data"
    }
   ],
   "source": [
    "# plotting categorical and validation accuracy over epochs\n",
    "fig = plt.figure()\n",
    "ax1 = fig.add_subplot(2, 1, 1)\n",
    "ax1.plot(history.history['categorical_accuracy'])\n",
    "ax1.plot(history.history['val_categorical_accuracy'])\n",
    "ax1.set_title('model accuracy')\n",
    "ax1.set_xlabel('epoch')\n",
    "ax1.set_ylabel('accuracy')\n",
    "ax1.legend(['train', 'validation'], loc = 'upper left')\n",
    "\n",
    "# plotting auc and validation auc over epochs\n",
    "ax2 = fig.add_subplot(2, 1, 2)\n",
    "ax2.plot(history.history['auc_3'])\n",
    "ax2.plot(history.history['val_auc_3'])\n",
    "ax2.set_title('model auc')\n",
    "ax2.set_xlabel('epoch')\n",
    "ax2.set_ylabel('auc')\n",
    "ax2.legend(['train', 'validation'], loc = 'upper left')\n",
    "\n",
    "plt.show()"
   ]
  },
  {
   "cell_type": "code",
   "execution_count": 19,
   "metadata": {},
   "outputs": [
    {
     "name": "stdout",
     "output_type": "stream",
     "text": [
      "8/8 [==============================] - 1s 125ms/step\n",
      "              precision    recall  f1-score   support\n",
      "\n",
      "       Covid       0.42      0.44      0.43       111\n",
      "      Normal       0.21      0.16      0.18        70\n",
      "   Pneumonia       0.29      0.34      0.32        70\n",
      "\n",
      "    accuracy                           0.33       251\n",
      "   macro avg       0.31      0.31      0.31       251\n",
      "weighted avg       0.33      0.33      0.33       251\n",
      "\n"
     ]
    }
   ],
   "source": [
    "test_steps_per_epoch = math.ceil(validation_iterator.samples / validation_iterator.batch_size)\n",
    "predictions = model.predict(validation_iterator, steps = test_steps_per_epoch)\n",
    "test_steps_per_epoch = math.ceil(validation_iterator.samples / validation_iterator.batch_size)\n",
    "predicted_classes = np.argmax(predictions, axis = 1)\n",
    "true_classes = validation_iterator.classes\n",
    "class_labels = list(validation_iterator.class_indices.keys())\n",
    "report = classification_report(true_classes, predicted_classes, target_names = class_labels)\n",
    "print(report)   "
   ]
  },
  {
   "cell_type": "code",
   "execution_count": 20,
   "metadata": {},
   "outputs": [
    {
     "name": "stdout",
     "output_type": "stream",
     "text": [
      "[[49 28 34]\n",
      " [35 11 24]\n",
      " [32 14 24]]\n"
     ]
    }
   ],
   "source": [
    "cm=confusion_matrix(true_classes,predicted_classes)\n",
    "print(cm)"
   ]
  },
  {
   "cell_type": "code",
   "execution_count": null,
   "metadata": {},
   "outputs": [],
   "source": []
  }
 ],
 "metadata": {
  "kernelspec": {
   "display_name": "Python 3 (ipykernel)",
   "language": "python",
   "name": "python3"
  },
  "language_info": {
   "codemirror_mode": {
    "name": "ipython",
    "version": 3
   },
   "file_extension": ".py",
   "mimetype": "text/x-python",
   "name": "python",
   "nbconvert_exporter": "python",
   "pygments_lexer": "ipython3",
   "version": "3.11.6"
  }
 },
 "nbformat": 4,
 "nbformat_minor": 4
}
